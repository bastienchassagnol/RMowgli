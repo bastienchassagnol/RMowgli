{
 "cells": [
  {
   "cell_type": "markdown",
   "id": "d619c6e3",
   "metadata": {},
   "source": [
    "## Preprocessing 10X PBMC ATAC + RNA"
   ]
  },
  {
   "cell_type": "markdown",
   "id": "fb2f2c92",
   "metadata": {},
   "source": [
    "Following the tutorial @ https://github.com/PMBio/muon-tutorials/tree/master/single-cell-rna-atac/pbmc10k but with the data from https://raw.githack.com/bioFAM/MOFA2_tutorials/master/R_tutorials/10x_scRNA_scATAC.html"
   ]
  },
  {
   "cell_type": "markdown",
   "id": "889737fa",
   "metadata": {},
   "source": [
    "## Imports"
   ]
  },
  {
   "cell_type": "code",
   "execution_count": 1,
   "id": "c5dc4e9f",
   "metadata": {},
   "outputs": [],
   "source": [
    "import numpy as np\n",
    "import pandas as pd\n",
    "import scanpy as sc\n",
    "import anndata as ad\n",
    "import muon as mu"
   ]
  },
  {
   "cell_type": "code",
   "execution_count": 2,
   "id": "c4672ef5",
   "metadata": {},
   "outputs": [],
   "source": [
    "# Reading R files\n",
    "import rpy2.robjects as robjects\n",
    "from rpy2.robjects import pandas2ri\n",
    "pandas2ri.activate()\n",
    "readRDS = robjects.r['readRDS']"
   ]
  },
  {
   "cell_type": "markdown",
   "id": "d3cf65f5",
   "metadata": {},
   "source": [
    "## Load RNA"
   ]
  },
  {
   "cell_type": "code",
   "execution_count": 3,
   "id": "cddaca81",
   "metadata": {},
   "outputs": [
    {
     "data": {
      "text/plain": [
       "AnnData object with n_obs × n_vars = 29732 × 11909"
      ]
     },
     "execution_count": 3,
     "metadata": {},
     "output_type": "execute_result"
    }
   ],
   "source": [
    "rna = sc.read_mtx('../datasets/PBMC_10k/original/RNA_counts.mtx')\n",
    "rna"
   ]
  },
  {
   "cell_type": "code",
   "execution_count": 4,
   "id": "4a0418ee",
   "metadata": {},
   "outputs": [],
   "source": [
    "rna = rna.T"
   ]
  },
  {
   "cell_type": "code",
   "execution_count": 5,
   "id": "87ad4038",
   "metadata": {},
   "outputs": [],
   "source": [
    "dimnames = readRDS('../datasets/PBMC_10k/original/RNA_dimnames.RDS')\n",
    "rna.var_names = np.array(dimnames[0])\n",
    "rna.obs_names = np.array(dimnames[1])"
   ]
  },
  {
   "cell_type": "markdown",
   "id": "71095d32",
   "metadata": {},
   "source": [
    "## Load ATAC"
   ]
  },
  {
   "cell_type": "code",
   "execution_count": null,
   "id": "4ad92d18",
   "metadata": {},
   "outputs": [],
   "source": [
    "atac = sc.read_mtx('../datasets/PBMC_10k/original/ATAC_counts.mtx')\n",
    "atac"
   ]
  },
  {
   "cell_type": "code",
   "execution_count": null,
   "id": "6cc59648",
   "metadata": {},
   "outputs": [],
   "source": [
    "atac = atac.T"
   ]
  },
  {
   "cell_type": "code",
   "execution_count": null,
   "id": "9a53fc51",
   "metadata": {},
   "outputs": [],
   "source": [
    "dimnames = readRDS('../datasets/PBMC_10k/original/ATAC_dimnames.RDS')\n",
    "atac.var_names = np.array(dimnames[0])\n",
    "atac.obs_names = np.array(dimnames[1])"
   ]
  },
  {
   "cell_type": "markdown",
   "id": "9ae7a969",
   "metadata": {},
   "source": [
    "## Add cell types"
   ]
  },
  {
   "cell_type": "code",
   "execution_count": null,
   "id": "f402ac72",
   "metadata": {},
   "outputs": [],
   "source": [
    "# Read cell type annotations\n",
    "meta = readRDS('../datasets/PBMC_10k/original/meta.RDS')\n",
    "rna.obs['celltype'] = meta['celltype'].loc[rna.obs.index]\n",
    "atac.obs['celltype'] = meta['celltype'].loc[atac.obs.index]"
   ]
  },
  {
   "cell_type": "markdown",
   "id": "e97c017a",
   "metadata": {},
   "source": [
    "## Preprocess RNA"
   ]
  },
  {
   "cell_type": "code",
   "execution_count": null,
   "id": "c2187c52",
   "metadata": {},
   "outputs": [],
   "source": [
    "# Mitochondrial QC metrics\n",
    "rna.var['mt'] = rna.var_names.str.startswith('MT-')  # annotate the group of mitochondrial genes as 'mt'\n",
    "sc.pp.calculate_qc_metrics(rna, qc_vars=['mt'], percent_top=None, log1p=False, inplace=True)"
   ]
  },
  {
   "cell_type": "code",
   "execution_count": null,
   "id": "c0461477",
   "metadata": {},
   "outputs": [],
   "source": [
    "# Violin plot of QC metrics\n",
    "sc.pl.violin(rna, ['n_genes_by_counts', 'total_counts', 'pct_counts_mt'], jitter=0.4, multi_panel=True)"
   ]
  },
  {
   "cell_type": "code",
   "execution_count": null,
   "id": "7952dc04",
   "metadata": {},
   "outputs": [],
   "source": [
    "# Filter genes\n",
    "mu.pp.filter_var(rna, 'n_cells_by_counts', lambda x: x >= 10)"
   ]
  },
  {
   "cell_type": "code",
   "execution_count": null,
   "id": "6b8deeae",
   "metadata": {},
   "outputs": [],
   "source": [
    "# Filter cells\n",
    "mu.pp.filter_obs(rna, 'n_genes_by_counts', lambda x: (x >= 500) & (x < 4_500))\n",
    "mu.pp.filter_obs(rna, 'total_counts', lambda x: x < 13_000)\n",
    "mu.pp.filter_obs(rna, 'pct_counts_mt', lambda x: x < 20)"
   ]
  },
  {
   "cell_type": "code",
   "execution_count": null,
   "id": "49651a04",
   "metadata": {},
   "outputs": [],
   "source": [
    "# Violin plot of QC metrics\n",
    "sc.pl.violin(rna, ['n_genes_by_counts', 'total_counts', 'pct_counts_mt'], jitter=0.4, multi_panel=True)"
   ]
  },
  {
   "cell_type": "code",
   "execution_count": null,
   "id": "9830bac6",
   "metadata": {},
   "outputs": [],
   "source": [
    "# Per-cell normalization\n",
    "sc.pp.normalize_total(rna, target_sum=1e4)"
   ]
  },
  {
   "cell_type": "code",
   "execution_count": null,
   "id": "e3bb1781",
   "metadata": {},
   "outputs": [],
   "source": [
    "# Log-normalize\n",
    "sc.pp.log1p(rna)"
   ]
  },
  {
   "cell_type": "code",
   "execution_count": null,
   "id": "f11096ea",
   "metadata": {},
   "outputs": [],
   "source": [
    "# Highly variable genes\n",
    "sc.pp.highly_variable_genes(rna, min_mean=0.1, max_mean=4, min_disp=0.5)\n",
    "sc.pl.highly_variable_genes(rna)"
   ]
  },
  {
   "cell_type": "code",
   "execution_count": null,
   "id": "5f819a96",
   "metadata": {},
   "outputs": [],
   "source": [
    "np.sum(rna.var.highly_variable)"
   ]
  },
  {
   "cell_type": "markdown",
   "id": "5e56dcd9",
   "metadata": {},
   "source": [
    "## Preprocess ATAC"
   ]
  },
  {
   "cell_type": "code",
   "execution_count": null,
   "id": "bf4b2151",
   "metadata": {},
   "outputs": [],
   "source": [
    "# Add peak annotation\n",
    "mu.atac.tl.add_peak_annotation(atac, annotation=\"../datasets/PBMC_10k/original/atac_peak_annotation.tsv\")\n",
    "atac.uns['atac']['peak_annotation']"
   ]
  },
  {
   "cell_type": "code",
   "execution_count": null,
   "id": "7335c5b8",
   "metadata": {},
   "outputs": [],
   "source": [
    "# QC\n",
    "sc.pp.calculate_qc_metrics(atac, percent_top=None, log1p=False, inplace=True)\n",
    "sc.pl.violin(atac, ['total_counts', 'n_genes_by_counts'], jitter=0.4, multi_panel=True)"
   ]
  },
  {
   "cell_type": "code",
   "execution_count": null,
   "id": "1134ec8f",
   "metadata": {},
   "outputs": [],
   "source": [
    "# Filter genes\n",
    "mu.pp.filter_var(atac, 'n_cells_by_counts', lambda x: x >= 10)"
   ]
  },
  {
   "cell_type": "code",
   "execution_count": null,
   "id": "94958de6",
   "metadata": {},
   "outputs": [],
   "source": [
    "# Filter cells\n",
    "mu.pp.filter_obs(atac, 'n_genes_by_counts', lambda x: (x >= 1_000) & (x <= 15_000))\n",
    "mu.pp.filter_obs(atac, 'total_counts', lambda x: (x >= 1_000) & (x <= 45_000))"
   ]
  },
  {
   "cell_type": "code",
   "execution_count": null,
   "id": "7ffa3d0d",
   "metadata": {},
   "outputs": [],
   "source": [
    "# Violin again\n",
    "sc.pl.violin(atac, ['n_genes_by_counts', 'total_counts'], jitter=0.4, multi_panel=True)"
   ]
  },
  {
   "cell_type": "code",
   "execution_count": null,
   "id": "1c89c9ef",
   "metadata": {},
   "outputs": [],
   "source": [
    "sc.pp.normalize_per_cell(atac, counts_per_cell_after=1)\n",
    "#sc.pp.log1p(atac)"
   ]
  },
  {
   "cell_type": "code",
   "execution_count": null,
   "id": "8f069aa8",
   "metadata": {},
   "outputs": [],
   "source": [
    "sc.pp.highly_variable_genes(atac, min_mean=4e-5, max_mean=4e-4, min_disp=0.5)\n",
    "sc.pl.highly_variable_genes(atac)"
   ]
  },
  {
   "cell_type": "code",
   "execution_count": null,
   "id": "fda5ea37",
   "metadata": {},
   "outputs": [],
   "source": [
    "np.sum(atac.var.highly_variable)"
   ]
  },
  {
   "cell_type": "markdown",
   "id": "4cc64fa1",
   "metadata": {},
   "source": [
    "## Package into Muon object"
   ]
  },
  {
   "cell_type": "code",
   "execution_count": null,
   "id": "ae684e17",
   "metadata": {},
   "outputs": [],
   "source": [
    "rna = rna[~rna.obs['celltype'].isna()].copy()\n",
    "atac = atac[~atac.obs['celltype'].isna()].copy()"
   ]
  },
  {
   "cell_type": "code",
   "execution_count": null,
   "id": "9f57a397",
   "metadata": {},
   "outputs": [],
   "source": [
    "# Create MuData object with rna and atac\n",
    "mdata = mu.MuData({'rna': rna, 'atac': atac})"
   ]
  },
  {
   "cell_type": "code",
   "execution_count": null,
   "id": "412c7675",
   "metadata": {},
   "outputs": [],
   "source": [
    "mu.pp.intersect_obs(mdata)"
   ]
  },
  {
   "cell_type": "code",
   "execution_count": null,
   "id": "719acadd",
   "metadata": {},
   "outputs": [],
   "source": [
    "mdata"
   ]
  },
  {
   "cell_type": "code",
   "execution_count": 40,
   "id": "a95db227",
   "metadata": {},
   "outputs": [],
   "source": [
    "mdata.write_h5mu('../datasets/PBMC_10k/preprocessed/pbmc10k.h5mu.gz', compression='gzip')"
   ]
  },
  {
   "cell_type": "markdown",
   "id": "75d1277a",
   "metadata": {},
   "source": [
    "## Visualize"
   ]
  },
  {
   "cell_type": "code",
   "execution_count": null,
   "id": "a45ae20c",
   "metadata": {},
   "outputs": [],
   "source": [
    "sc.pp.neighbors(rna)\n",
    "sc.tl.umap(rna)\n",
    "sc.pl.umap(rna, color=\"celltype\", legend_loc=\"on data\")"
   ]
  },
  {
   "cell_type": "code",
   "execution_count": null,
   "id": "fefa876a",
   "metadata": {},
   "outputs": [],
   "source": [
    "sc.pp.neighbors(atac)\n",
    "sc.tl.umap(atac)\n",
    "sc.pl.umap(atac, color=\"celltype\", legend_loc=\"on data\")"
   ]
  },
  {
   "cell_type": "code",
   "execution_count": null,
   "id": "fb52e8d7",
   "metadata": {},
   "outputs": [],
   "source": []
  }
 ],
 "metadata": {
  "kernelspec": {
   "display_name": "Python 3",
   "language": "python",
   "name": "python3"
  },
  "language_info": {
   "codemirror_mode": {
    "name": "ipython",
    "version": 3
   },
   "file_extension": ".py",
   "mimetype": "text/x-python",
   "name": "python",
   "nbconvert_exporter": "python",
   "pygments_lexer": "ipython3",
   "version": "3.8.5"
  }
 },
 "nbformat": 4,
 "nbformat_minor": 5
}
