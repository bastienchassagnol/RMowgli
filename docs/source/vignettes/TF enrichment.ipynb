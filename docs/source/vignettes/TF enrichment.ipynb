{
 "cells": [
  {
   "cell_type": "markdown",
   "metadata": {},
   "source": [
    "# Motif and Transcription Factor enrichment after Mowgli integration"
   ]
  },
  {
   "cell_type": "markdown",
   "metadata": {},
   "source": [
    "This notebook sums up a few guidelines to \n",
    "\n",
    "* extract the top features (e.g., genes or peaks) for all dimensions in the Mowgli embedding.\n",
    "* perform a motif enrichment analysis (using peaks) (as done for Figure 5 of our [manuscript](https://www.nature.com/articles/s41467-023-43019-2)).\n",
    "\n",
    "The  code was used in the [original publication](https://doi.org/10.1038/s41467-023-43019-2) to perform motif enrichment analysis from chromatin accessibility (Figure 5-C).  This notebook is a summarisation of the code that is stored in our [Mowgli reproducibility](https://github.com/cantinilab/mowgli_reproducibility) repository.\n",
    "\n",
    "**NOTE:** This notebook uses both R and Python code. We recommend to copy paste in your local Jupyter or Rstudio session and run the code in the corresponding language. \n",
    "**NOTE #2:** The enrichment are performed on human data. Change this code and the databases accordingly if you are working with other species. "
   ]
  },
  {
   "cell_type": "markdown",
   "metadata": {},
   "source": [
    "## Extract top features of a modality from Mowgli"
   ]
  },
  {
   "cell_type": "markdown",
   "metadata": {},
   "source": [
    "We assume that the results of Mowgli integration are in a `mdata` object that store genes in the `rna` and peaks in the `atac` slot."
   ]
  },
  {
   "cell_type": "code",
   "execution_count": null,
   "metadata": {},
   "outputs": [],
   "source": [
    "# Python\n",
    "# method to extract the top features\n",
    "def top_mowgli(dim, n, H_mowgli):\n",
    "    \"\"\"\n",
    "    Get the top n peaks for a given dimension.\n",
    "    \"\"\"\n",
    "    H_scaled = H_mowgli / H_mowgli.sum(axis=1, keepdims=True)\n",
    "    return H_scaled[:, dim].argsort()[::-1][:n]"
   ]
  },
  {
   "cell_type": "markdown",
   "metadata": {},
   "source": [
    "### Extract the top peaks"
   ]
  },
  {
   "cell_type": "code",
   "execution_count": null,
   "metadata": {},
   "outputs": [],
   "source": [
    "# Python\n",
    "# Peaks\n",
    "\n",
    "# we set the number of peaks to look at\n",
    "n_peaks = 100\n",
    "\n",
    "# Get the genes or peak dictionaries\n",
    "H_mowgli_atac = mdata[\"atac\"].uns[\"H_OT\"]\n",
    "\n",
    "# actual features extraction\n",
    "mdata[\"atac\"].var_names = mdata[\"atac\"].var_names.str.replace(\"atac:\", \"\")\n",
    "top_in_mowgli = mdata[\"atac\"].var.copy()\n",
    "\n",
    "# Fill the Mowgli top peaks.\n",
    "for dim in range(H_mowgli_atac.shape[1]):\n",
    "    col_name = f\"top_in_dim_{dim}\"\n",
    "    idx = top_in_mowgli.index[top_mowgli(dim, n_peaks, H_mowgli_atac)]\n",
    "    top_in_mowgli[col_name] = False\n",
    "    top_in_mowgli.loc[idx, col_name] = True\n",
    "\n",
    "# Save Mowgli's top peaks.\n",
    "top_in_mowgli.to_csv(\"top_peaks_in_mowgli.csv\")"
   ]
  },
  {
   "cell_type": "markdown",
   "metadata": {},
   "source": [
    "### Extract the top genes (for other expression-space based enrchments)"
   ]
  },
  {
   "cell_type": "code",
   "execution_count": null,
   "metadata": {},
   "outputs": [],
   "source": [
    "# Python\n",
    "# we set the number of peaks to look at\n",
    "n_genes = 100\n",
    "\n",
    "H_mowgli_rna = mdata[\"rna\"].uns[\"H_OT\"]\n",
    "\n",
    "# select the top genes to probe using only the highly variable genes (our universe)\n",
    "top_in_mowgli = (\n",
    "    mdata[\"rna\"].var.loc[mdata[\"rna\"].var[\"highly_variable\"] == True, :].copy()\n",
    ")  # the var coordinates\n",
    "\n",
    "for dim in range(H_mowgli_rna.shape[1]):\n",
    "    print(dim)\n",
    "    # name of the column iun the var object that will be used to extract the top peaks for each gfiven dimenssion\n",
    "    col_name = f\"top_in_dim_{dim}\"\n",
    "    idx = top_in_mowgli.index[\n",
    "        top_mowgli(dim, n_genes, H_mowgli_rna)\n",
    "    ]  # indices of the top features for that given dimensions. will be used for localizing the peaks afterwasrds\n",
    "    top_in_mowgli[col_name] = False  # set all value for that dimesions to False\n",
    "    top_in_mowgli.loc[idx, col_name] = True  # set to True only the peaks that are\n",
    "\n",
    "# Save Mowgli's top genes.\n",
    "top_in_mowgli.to_csv(\n",
    "    os.path.join(top_feats_dir, f\"top_genes_in mowgli.csv\"),\n",
    ")"
   ]
  },
  {
   "cell_type": "markdown",
   "metadata": {},
   "source": [
    "## Motif enrichment "
   ]
  },
  {
   "cell_type": "code",
   "execution_count": null,
   "metadata": {
    "vscode": {
     "languageId": "r"
    }
   },
   "outputs": [],
   "source": [
    "# R\n",
    "# Imports.\n",
    "library(GenomicRanges)\n",
    "library(motifmatchr)\n",
    "library(chromVAR)\n",
    "library(TFBSTools)\n",
    "library(JASPAR2022)\n",
    "library(Signac)\n",
    "library(BSgenome.Hsapiens.UCSC.hg38)\n",
    "library(chromVARmotifs)\n",
    "library(MuData)"
   ]
  },
  {
   "cell_type": "code",
   "execution_count": null,
   "metadata": {
    "vscode": {
     "languageId": "r"
    }
   },
   "outputs": [],
   "source": [
    "# R\n",
    "# Read atac file.\n",
    "in_atac <- \"top_peaks_in_mowgli.csv\" # nolint\n",
    "peaks_csv <- read.csv(in_atac, row.names = 2)"
   ]
  },
  {
   "cell_type": "code",
   "execution_count": null,
   "metadata": {
    "vscode": {
     "languageId": "r"
    }
   },
   "outputs": [],
   "source": [
    "# R\n",
    "# Optional: Remove non-canonical chromosomes.\n",
    "peaks_csv < -peaks_csv[peaks_csv[\"Chromosome\"] != \"GL000194.1\",]\n",
    "peaks_csv < -peaks_csv[peaks_csv[\"Chromosome\"] != \"GL000205.2\",]\n",
    "peaks_csv < -peaks_csv[peaks_csv[\"Chromosome\"] != \"GL000205.2\",]\n",
    "peaks_csv < -peaks_csv[peaks_csv[\"Chromosome\"] != \"GL000219.1\",]\n",
    "peaks_csv < -peaks_csv[peaks_csv[\"Chromosome\"] != \"GL000219.1\",]\n",
    "peaks_csv < -peaks_csv[peaks_csv[\"Chromosome\"] != \"KI270721.1\",]\n",
    "peaks_csv < -peaks_csv[peaks_csv[\"Chromosome\"] != \"KI270726.1\",]\n",
    "peaks_csv < -peaks_csv[peaks_csv[\"Chromosome\"] != \"KI270726.1\",]\n",
    "peaks_csv < -peaks_csv[peaks_csv[\"Chromosome\"] != \"KI270713.1\",]"
   ]
  },
  {
   "cell_type": "code",
   "execution_count": null,
   "metadata": {
    "vscode": {
     "languageId": "r"
    }
   },
   "outputs": [],
   "source": [
    "# R\n",
    "# Convert the peaks to GRanges.\n",
    "chromosomes <- peaks_csv[\"Chromosome\"][, 1]\n",
    "ranges <- IRanges::IRanges(\n",
    "    start = peaks_csv[\"Start\"][, 1],\n",
    "    end = peaks_csv[\"End\"][, 1]\n",
    ")\n",
    "peaks <- GenomicRanges::GRanges(seqnames = chromosomes, ranges = ranges)"
   ]
  },
  {
   "cell_type": "code",
   "execution_count": null,
   "metadata": {
    "vscode": {
     "languageId": "r"
    }
   },
   "outputs": [],
   "source": [
    "# R\n",
    "# Get JASPAR motifs.\n",
    "opts <- list()\n",
    "opts[\"species\"] <- \"Homo sapiens\"\n",
    "opts[\"collection\"] <- \"CORE\"\n",
    "motifs <- TFBSTools::getMatrixSet(JASPAR2022::JASPAR2022, opts)\n",
    "motifs_pwm <- TFBSTools::toPWM(motifs)\n",
    "\n",
    "# Get cisBP motifs.\n",
    "data(\"human_pwms_v2\")\n",
    "\n",
    "# Fuse JASPAR and cisBP motifs.\n",
    "for (name in names(motifs_pwm)) {\n",
    "    human_pwms_v2[name] <- motifs_pwm[name]\n",
    "}"
   ]
  },
  {
   "cell_type": "code",
   "execution_count": null,
   "metadata": {
    "vscode": {
     "languageId": "r"
    }
   },
   "outputs": [],
   "source": [
    "# R\n",
    "# Create a 'dummy' Signac object from the peaks.\n",
    "# Actually giving peaks_csv is nonsense.\n",
    "# But we only care about the rownames so it's fine.\n",
    "assay <- Signac::CreateChromatinAssay(\n",
    "    peaks_csv,\n",
    "    ranges = peaks,\n",
    "    sep = c(\":\", \"-\")\n",
    ")\n",
    "\n",
    "# Create statistics about peaks.\n",
    "assay <- Signac::RegionStats(\n",
    "    object = assay,\n",
    "    genome = BSgenome.Hsapiens.UCSC.hg38\n",
    ")\n",
    "\n",
    "# Add the downloaded motif PWM annotation.\n",
    "assay <- Signac::AddMotifs(\n",
    "    object = assay,\n",
    "    genome = BSgenome.Hsapiens.UCSC.hg38,\n",
    "    pfm = human_pwms_v2\n",
    ")"
   ]
  },
  {
   "cell_type": "code",
   "execution_count": null,
   "metadata": {
    "vscode": {
     "languageId": "r"
    }
   },
   "outputs": [],
   "source": [
    "# R\n",
    "# Define where to save the motif enrichment outputs.\n",
    "out_motif <- \"motifs_\"\n",
    "\n",
    "# Get all top peaks.\n",
    "background <- c()\n",
    "for (dim in 0:49) {\n",
    "\n",
    "    # Get the top peaks for that dimension.\n",
    "    features <- rownames(assay)[peaks_csv[paste0(\"top_in_dim_\", dim)] == \"True\"]\n",
    "\n",
    "    background <- c(background, features)\n",
    "}\n",
    "\n",
    "# Iterate over Mowgli's dimensions.\n",
    "for (dim in 0:49) {\n",
    "\n",
    "    # Get the top peaks for that dimension.\n",
    "    features <- rownames(assay)[peaks_csv[paste0(\"top_in_dim_\", dim)] == \"True\"]\n",
    "\n",
    "    # Do motif enrichment analysis.\n",
    "    enriched_motifs <- Signac::FindMotifs(\n",
    "        object = assay,\n",
    "        features = features,\n",
    "        background = background\n",
    "    )\n",
    "\n",
    "    # Save the enrichment.\n",
    "    write.csv(enriched_motifs, paste0(out_motif, dim, \".csv\"))\n",
    "}"
   ]
  }
 ],
 "metadata": {
  "kernelspec": {
   "display_name": "Python 3.8.5 ('base')",
   "language": "python",
   "name": "python3"
  },
  "language_info": {
   "codemirror_mode": {
    "name": "ipython",
    "version": 3
   },
   "file_extension": ".py",
   "mimetype": "text/x-python",
   "name": "python",
   "nbconvert_exporter": "python",
   "pygments_lexer": "ipython3",
   "version": "3.8.5"
  },
  "nbsphinx": {
   "execute": "never"
  }
 },
 "nbformat": 4,
 "nbformat_minor": 2
}
